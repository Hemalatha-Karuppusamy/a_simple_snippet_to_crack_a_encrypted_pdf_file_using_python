{
  "cells": [
    {
      "cell_type": "markdown",
      "metadata": {
        "id": "SH15CVYynDQ3"
      },
      "source": [
        "# password encrypt\n"
      ]
    },
    {
      "cell_type": "code",
      "execution_count": 10,
      "metadata": {
        "colab": {
          "base_uri": "https://localhost:8080/"
        },
        "id": "Rd-1QCtonLmQ",
        "outputId": "08694a61-c14a-403d-8877-20d392abeebf"
      },
      "outputs": [
        {
          "output_type": "stream",
          "name": "stdout",
          "text": [
            "Requirement already satisfied: pdfreader in /usr/local/lib/python3.10/dist-packages (0.1.12)\n",
            "Requirement already satisfied: bitarray>=1.1.0 in /usr/local/lib/python3.10/dist-packages (from pdfreader) (2.8.2)\n",
            "Requirement already satisfied: pillow>=7.1.0 in /usr/local/lib/python3.10/dist-packages (from pdfreader) (9.4.0)\n",
            "Requirement already satisfied: pycryptodome>=3.9.9 in /usr/local/lib/python3.10/dist-packages (from pdfreader) (3.19.0)\n",
            "Requirement already satisfied: python-dateutil>=2.8.1 in /usr/local/lib/python3.10/dist-packages (from pdfreader) (2.8.2)\n",
            "Requirement already satisfied: six>=1.5 in /usr/local/lib/python3.10/dist-packages (from python-dateutil>=2.8.1->pdfreader) (1.16.0)\n"
          ]
        }
      ],
      "source": [
        "pip install pdfreader"
      ]
    },
    {
      "cell_type": "code",
      "execution_count": 11,
      "metadata": {
        "id": "mtjZCIoznWm6"
      },
      "outputs": [],
      "source": [
        "import pdfreader\n",
        "from pdfreader import PDFDocument, SimplePDFViewer"
      ]
    },
    {
      "cell_type": "code",
      "execution_count": 3,
      "metadata": {
        "id": "vNriG7uFn6B3"
      },
      "outputs": [],
      "source": [
        "import numpy as np\n",
        "import itertools as it"
      ]
    },
    {
      "cell_type": "code",
      "execution_count": 7,
      "metadata": {
        "id": "UxXxYo-vnlpS"
      },
      "outputs": [],
      "source": [
        "x = np.array([0,1,2,3,4,5,6,7,8,9])\n",
        "y = it.permutations(x,6)\n",
        "\n",
        "p_list = []\n",
        "for i in list(y):\n",
        "  x=\"\"\n",
        "  for a in i:\n",
        "    x = x + str(a)\n",
        "  p_list.append(x)"
      ]
    },
    {
      "cell_type": "code",
      "execution_count": 13,
      "metadata": {
        "id": "-WOKuiEvnZ5g",
        "colab": {
          "base_uri": "https://localhost:8080/"
        },
        "outputId": "8ccd8a35-f7bd-4dee-ccc1-3fd477f32df4"
      },
      "outputs": [
        {
          "output_type": "stream",
          "name": "stdout",
          "text": [
            "password is 014589\n"
          ]
        }
      ],
      "source": [
        "pdf_file = \"/content/Try_me.pdf\"\n",
        "for i in p_list:\n",
        "  try:\n",
        "    fd = open(pdf_file, \"rb\")\n",
        "    doc = PDFDocument(fd, password=i)\n",
        "    print(\"password is\", i)\n",
        "    break\n",
        "  except:\n",
        "    continue"
      ]
    },
    {
      "cell_type": "code",
      "execution_count": null,
      "metadata": {
        "id": "-_9ul1pFnbms"
      },
      "outputs": [],
      "source": []
    }
  ],
  "metadata": {
    "colab": {
      "provenance": [],
      "collapsed_sections": [
        "Hv7GBXWenDT-"
      ]
    },
    "kernelspec": {
      "display_name": "Python 3",
      "name": "python3"
    },
    "language_info": {
      "name": "python"
    }
  },
  "nbformat": 4,
  "nbformat_minor": 0
}